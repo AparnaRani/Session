{
  "cells": [
    {
      "cell_type": "markdown",
      "metadata": {
        "id": "dx8XHmuMD6vW"
      },
      "source": [
        "<a href=\"https://colab.research.google.com/github/pyannote/pyannote-audio/blob/develop/tutorials/training_a_model.ipynb\" target=\"_parent\"><img src=\"https://colab.research.google.com/assets/colab-badge.svg\" alt=\"Open In Colab\"/></a>"
      ]
    },
    {
      "cell_type": "markdown",
      "metadata": {
        "id": "V9PXc8iuD6vY"
      },
      "source": [
        "\n",
        "# Training, fine-tuning, and transfer learning with pyannote.audio\n",
        "\n",
        "In this tutorial, you will learn how to use pyannote.audio to\n",
        "\n",
        "- train a voice activity detection model from scratch,\n",
        "- fine-tune a pretrained speaker segmentation model,\n",
        "- perform transfer learning (from speaker segmentation to overlapped speech detection)\n"
      ]
    },
    {
      "cell_type": "markdown",
      "metadata": {
        "id": "NXg1qeKPD6vZ"
      },
      "source": [
        "## Tutorial setup"
      ]
    },
    {
      "cell_type": "markdown",
      "metadata": {
        "id": "72ECjKLknm8D"
      },
      "source": [
        "### `Google Colab` setup"
      ]
    },
    {
      "cell_type": "markdown",
      "metadata": {
        "id": "mBBNyENbofJ4"
      },
      "source": [
        "If you are running this tutorial on `Colab`, execute the following commands in order to setup `Colab` environment. These commands will install `pyannote.audio` and download a mini version of the `AMI` corpus."
      ]
    },
    {
      "cell_type": "code",
      "execution_count": 1,
      "metadata": {
        "colab": {
          "base_uri": "https://localhost:8080/",
          "height": 0
        },
        "id": "Luhkk8D4oiir",
        "outputId": "379b09e3-f248-4735-ca0a-64c96a181f3e"
      },
      "outputs": [
        {
          "output_type": "stream",
          "name": "stdout",
          "text": [
            "\u001b[2K     \u001b[90m━━━━━━━━━━━━━━━━━━━━━━━━━━━━━━━━━━━━━━━━\u001b[0m \u001b[32m40.4/40.4 kB\u001b[0m \u001b[31m2.7 MB/s\u001b[0m eta \u001b[36m0:00:00\u001b[0m\n",
            "\u001b[2K     \u001b[90m━━━━━━━━━━━━━━━━━━━━━━━━━━━━━━━━━━━━━━━━\u001b[0m \u001b[32m117.0/117.0 kB\u001b[0m \u001b[31m7.4 MB/s\u001b[0m eta \u001b[36m0:00:00\u001b[0m\n",
            "\u001b[?25h  Preparing metadata (setup.py) ... \u001b[?25l\u001b[?25hdone\n",
            "  Preparing metadata (setup.py) ... \u001b[?25l\u001b[?25hdone\n",
            "\u001b[2K     \u001b[90m━━━━━━━━━━━━━━━━━━━━━━━━━━━━━━━━━━━━━━━━\u001b[0m \u001b[32m59.6/59.6 kB\u001b[0m \u001b[31m5.3 MB/s\u001b[0m eta \u001b[36m0:00:00\u001b[0m\n",
            "\u001b[?25h  Preparing metadata (setup.py) ... \u001b[?25l\u001b[?25hdone\n",
            "\u001b[2K   \u001b[90m━━━━━━━━━━━━━━━━━━━━━━━━━━━━━━━━━━━━━━━━\u001b[0m \u001b[32m208.7/208.7 kB\u001b[0m \u001b[31m15.2 MB/s\u001b[0m eta \u001b[36m0:00:00\u001b[0m\n",
            "\u001b[2K   \u001b[90m━━━━━━━━━━━━━━━━━━━━━━━━━━━━━━━━━━━━━━━━\u001b[0m \u001b[32m815.2/815.2 kB\u001b[0m \u001b[31m40.9 MB/s\u001b[0m eta \u001b[36m0:00:00\u001b[0m\n",
            "\u001b[2K   \u001b[90m━━━━━━━━━━━━━━━━━━━━━━━━━━━━━━━━━━━━━━━━\u001b[0m \u001b[32m79.5/79.5 kB\u001b[0m \u001b[31m7.9 MB/s\u001b[0m eta \u001b[36m0:00:00\u001b[0m\n",
            "\u001b[2K   \u001b[90m━━━━━━━━━━━━━━━━━━━━━━━━━━━━━━━━━━━━━━━━\u001b[0m \u001b[32m58.5/58.5 kB\u001b[0m \u001b[31m5.8 MB/s\u001b[0m eta \u001b[36m0:00:00\u001b[0m\n",
            "\u001b[2K   \u001b[90m━━━━━━━━━━━━━━━━━━━━━━━━━━━━━━━━━━━━━━━━\u001b[0m \u001b[32m48.1/48.1 kB\u001b[0m \u001b[31m4.5 MB/s\u001b[0m eta \u001b[36m0:00:00\u001b[0m\n",
            "\u001b[2K   \u001b[90m━━━━━━━━━━━━━━━━━━━━━━━━━━━━━━━━━━━━━━━━\u001b[0m \u001b[32m51.4/51.4 kB\u001b[0m \u001b[31m5.1 MB/s\u001b[0m eta \u001b[36m0:00:00\u001b[0m\n",
            "\u001b[2K   \u001b[90m━━━━━━━━━━━━━━━━━━━━━━━━━━━━━━━━━━━━━━━━\u001b[0m \u001b[32m125.9/125.9 kB\u001b[0m \u001b[31m12.2 MB/s\u001b[0m eta \u001b[36m0:00:00\u001b[0m\n",
            "\u001b[2K   \u001b[90m━━━━━━━━━━━━━━━━━━━━━━━━━━━━━━━━━━━━━━━━\u001b[0m \u001b[32m824.8/824.8 kB\u001b[0m \u001b[31m57.9 MB/s\u001b[0m eta \u001b[36m0:00:00\u001b[0m\n",
            "\u001b[2K   \u001b[90m━━━━━━━━━━━━━━━━━━━━━━━━━━━━━━━━━━━━━━━━\u001b[0m \u001b[32m101.7/101.7 kB\u001b[0m \u001b[31m11.0 MB/s\u001b[0m eta \u001b[36m0:00:00\u001b[0m\n",
            "\u001b[2K   \u001b[90m━━━━━━━━━━━━━━━━━━━━━━━━━━━━━━━━━━━━━━━━\u001b[0m \u001b[32m48.5/48.5 kB\u001b[0m \u001b[31m5.0 MB/s\u001b[0m eta \u001b[36m0:00:00\u001b[0m\n",
            "\u001b[2K   \u001b[90m━━━━━━━━━━━━━━━━━━━━━━━━━━━━━━━━━━━━━━━━\u001b[0m \u001b[32m927.3/927.3 kB\u001b[0m \u001b[31m55.9 MB/s\u001b[0m eta \u001b[36m0:00:00\u001b[0m\n",
            "\u001b[2K   \u001b[90m━━━━━━━━━━━━━━━━━━━━━━━━━━━━━━━━━━━━━━━━\u001b[0m \u001b[32m383.4/383.4 kB\u001b[0m \u001b[31m34.5 MB/s\u001b[0m eta \u001b[36m0:00:00\u001b[0m\n",
            "\u001b[2K   \u001b[90m━━━━━━━━━━━━━━━━━━━━━━━━━━━━━━━━━━━━━━━━\u001b[0m \u001b[32m819.3/819.3 kB\u001b[0m \u001b[31m54.9 MB/s\u001b[0m eta \u001b[36m0:00:00\u001b[0m\n",
            "\u001b[2K   \u001b[90m━━━━━━━━━━━━━━━━━━━━━━━━━━━━━━━━━━━━━━━━\u001b[0m \u001b[32m233.6/233.6 kB\u001b[0m \u001b[31m23.1 MB/s\u001b[0m eta \u001b[36m0:00:00\u001b[0m\n",
            "\u001b[2K   \u001b[90m━━━━━━━━━━━━━━━━━━━━━━━━━━━━━━━━━━━━━━━━\u001b[0m \u001b[32m117.7/117.7 kB\u001b[0m \u001b[31m12.8 MB/s\u001b[0m eta \u001b[36m0:00:00\u001b[0m\n",
            "\u001b[2K   \u001b[90m━━━━━━━━━━━━━━━━━━━━━━━━━━━━━━━━━━━━━━━━\u001b[0m \u001b[32m739.1/739.1 kB\u001b[0m \u001b[31m53.6 MB/s\u001b[0m eta \u001b[36m0:00:00\u001b[0m\n",
            "\u001b[2K   \u001b[90m━━━━━━━━━━━━━━━━━━━━━━━━━━━━━━━━━━━━━━━━\u001b[0m \u001b[32m78.6/78.6 kB\u001b[0m \u001b[31m8.2 MB/s\u001b[0m eta \u001b[36m0:00:00\u001b[0m\n",
            "\u001b[?25h  Building wheel for antlr4-python3-runtime (setup.py) ... \u001b[?25l\u001b[?25hdone\n",
            "  Building wheel for docopt (setup.py) ... \u001b[?25l\u001b[?25hdone\n",
            "  Building wheel for julius (setup.py) ... \u001b[?25l\u001b[?25hdone\n",
            "\u001b[2K   \u001b[90m━━━━━━━━━━━━━━━━━━━━━━━━━━━━━━━━━━━━━━━━\u001b[0m \u001b[32m1.6/1.6 MB\u001b[0m \u001b[31m30.2 MB/s\u001b[0m eta \u001b[36m0:00:00\u001b[0m\n",
            "\u001b[?25hCloning into 'AMI-diarization-setup'...\n",
            "remote: Enumerating objects: 977, done.\u001b[K\n",
            "remote: Counting objects: 100% (977/977), done.\u001b[K\n",
            "remote: Compressing objects: 100% (429/429), done.\u001b[K\n",
            "remote: Total 977 (delta 390), reused 949 (delta 369), pack-reused 0 (from 0)\u001b[K\n",
            "Receiving objects: 100% (977/977), 1.67 MiB | 10.76 MiB/s, done.\n",
            "Resolving deltas: 100% (390/390), done.\n",
            "/content/AMI-diarization-setup/pyannote\n",
            "ES2002a.Mix-Headset 100%[===================>]  38.84M  12.4MB/s    in 3.1s    \n",
            "2025-01-22 21:50:51 URL:https://groups.inf.ed.ac.uk/ami/AMICorpusMirror/amicorpus/ES2002a/audio/ES2002a.Mix-Headset.wav [40724524/40724524] -> \"amicorpus/ES2002a/audio/ES2002a.Mix-Headset.wav\" [1]\n",
            "ES2003a.Mix-Headset 100%[===================>]  34.78M  10.8MB/s    in 3.2s    \n",
            "2025-01-22 21:50:55 URL:https://groups.inf.ed.ac.uk/ami/AMICorpusMirror/amicorpus/ES2003a/audio/ES2003a.Mix-Headset.wav [36472536/36472536] -> \"amicorpus/ES2003a/audio/ES2003a.Mix-Headset.wav\" [1]\n",
            "ES2004a.Mix-Headset 100%[===================>]  32.02M  10.5MB/s    in 3.1s    \n",
            "2025-01-22 21:50:59 URL:https://groups.inf.ed.ac.uk/ami/AMICorpusMirror/amicorpus/ES2004a/audio/ES2004a.Mix-Headset.wav [33579394/33579394] -> \"amicorpus/ES2004a/audio/ES2004a.Mix-Headset.wav\" [1]\n",
            "ES2005a.Mix-Headset 100%[===================>]  14.58M  7.98MB/s    in 1.8s    \n",
            "2025-01-22 21:51:02 URL:https://groups.inf.ed.ac.uk/ami/AMICorpusMirror/amicorpus/ES2005a/audio/ES2005a.Mix-Headset.wav [15292120/15292120] -> \"amicorpus/ES2005a/audio/ES2005a.Mix-Headset.wav\" [1]\n",
            "ES2006a.Mix-Headset 100%[===================>]  39.19M  13.2MB/s    in 3.0s    \n",
            "2025-01-22 21:51:06 URL:https://groups.inf.ed.ac.uk/ami/AMICorpusMirror/amicorpus/ES2006a/audio/ES2006a.Mix-Headset.wav [41098968/41098968] -> \"amicorpus/ES2006a/audio/ES2006a.Mix-Headset.wav\" [1]\n",
            "ES2007a.Mix-Headset 100%[===================>]  36.81M  13.4MB/s    in 2.8s    \n",
            "2025-01-22 21:51:10 URL:https://groups.inf.ed.ac.uk/ami/AMICorpusMirror/amicorpus/ES2007a/audio/ES2007a.Mix-Headset.wav [38601772/38601772] -> \"amicorpus/ES2007a/audio/ES2007a.Mix-Headset.wav\" [1]\n",
            "ES2008a.Mix-Headset 100%[===================>]  31.84M  11.6MB/s    in 2.7s    \n",
            "2025-01-22 21:51:13 URL:https://groups.inf.ed.ac.uk/ami/AMICorpusMirror/amicorpus/ES2008a/audio/ES2008a.Mix-Headset.wav [33387564/33387564] -> \"amicorpus/ES2008a/audio/ES2008a.Mix-Headset.wav\" [1]\n",
            "ES2009a.Mix-Headset 100%[===================>]  42.79M  13.8MB/s    in 3.1s    \n",
            "2025-01-22 21:51:18 URL:https://groups.inf.ed.ac.uk/ami/AMICorpusMirror/amicorpus/ES2009a/audio/ES2009a.Mix-Headset.wav [44870700/44870700] -> \"amicorpus/ES2009a/audio/ES2009a.Mix-Headset.wav\" [1]\n",
            "ES2010a.Mix-Headset 100%[===================>]  19.66M  8.88MB/s    in 2.2s    \n",
            "2025-01-22 21:51:21 URL:https://groups.inf.ed.ac.uk/ami/AMICorpusMirror/amicorpus/ES2010a/audio/ES2010a.Mix-Headset.wav [20617260/20617260] -> \"amicorpus/ES2010a/audio/ES2010a.Mix-Headset.wav\" [1]\n",
            "ES2011a.Mix-Headset 100%[===================>]  33.99M  13.1MB/s    in 2.6s    \n",
            "2025-01-22 21:51:24 URL:https://groups.inf.ed.ac.uk/ami/AMICorpusMirror/amicorpus/ES2011a/audio/ES2011a.Mix-Headset.wav [35643096/35643096] -> \"amicorpus/ES2011a/audio/ES2011a.Mix-Headset.wav\" [1]\n",
            "ES2012a.Mix-Headset 100%[===================>]  33.71M  10.8MB/s    in 3.1s    \n",
            "2025-01-22 21:51:29 URL:https://groups.inf.ed.ac.uk/ami/AMICorpusMirror/amicorpus/ES2012a/audio/ES2012a.Mix-Headset.wav [35345112/35345112] -> \"amicorpus/ES2012a/audio/ES2012a.Mix-Headset.wav\" [1]\n",
            "ES2013a.Mix-Headset 100%[===================>]  25.18M  10.6MB/s    in 2.4s    \n",
            "2025-01-22 21:51:32 URL:https://groups.inf.ed.ac.uk/ami/AMICorpusMirror/amicorpus/ES2013a/audio/ES2013a.Mix-Headset.wav [26405592/26405592] -> \"amicorpus/ES2013a/audio/ES2013a.Mix-Headset.wav\" [1]\n",
            "ES2014a.Mix-Headset 100%[===================>]  35.06M  13.2MB/s    in 2.7s    \n",
            "2025-01-22 21:51:36 URL:https://groups.inf.ed.ac.uk/ami/AMICorpusMirror/amicorpus/ES2014a/audio/ES2014a.Mix-Headset.wav [36768472/36768472] -> \"amicorpus/ES2014a/audio/ES2014a.Mix-Headset.wav\" [1]\n",
            "ES2015a.Mix-Headset 100%[===================>]  34.99M  10.2MB/s    in 3.4s    \n",
            "2025-01-22 21:51:40 URL:https://groups.inf.ed.ac.uk/ami/AMICorpusMirror/amicorpus/ES2015a/audio/ES2015a.Mix-Headset.wav [36689964/36689964] -> \"amicorpus/ES2015a/audio/ES2015a.Mix-Headset.wav\" [1]\n",
            "ES2016a.Mix-Headset 100%[===================>]  42.24M  11.5MB/s    in 4.0s    \n",
            "2025-01-22 21:51:45 URL:https://groups.inf.ed.ac.uk/ami/AMICorpusMirror/amicorpus/ES2016a/audio/ES2016a.Mix-Headset.wav [44294104/44294104] -> \"amicorpus/ES2016a/audio/ES2016a.Mix-Headset.wav\" [1]\n",
            "IS1000a.Mix-Headset 100%[===================>]  48.30M  14.8MB/s    in 4.0s    \n",
            "2025-01-22 21:51:50 URL:https://groups.inf.ed.ac.uk/ami/AMICorpusMirror/amicorpus/IS1000a/audio/IS1000a.Mix-Headset.wav [50645452/50645452] -> \"amicorpus/IS1000a/audio/IS1000a.Mix-Headset.wav\" [1]\n",
            "IS1001a.Mix-Headset 100%[===================>]  27.74M  12.1MB/s    in 2.3s    \n",
            "2025-01-22 21:51:53 URL:https://groups.inf.ed.ac.uk/ami/AMICorpusMirror/amicorpus/IS1001a/audio/IS1001a.Mix-Headset.wav [29089836/29089836] -> \"amicorpus/IS1001a/audio/IS1001a.Mix-Headset.wav\" [1]\n",
            "IS1003a.Mix-Headset 100%[===================>]  27.88M  10.0MB/s    in 2.8s    \n",
            "2025-01-22 21:51:57 URL:https://groups.inf.ed.ac.uk/ami/AMICorpusMirror/amicorpus/IS1003a/audio/IS1003a.Mix-Headset.wav [29231830/29231830] -> \"amicorpus/IS1003a/audio/IS1003a.Mix-Headset.wav\" [1]\n",
            "IS1004a.Mix-Headset 100%[===================>]  24.32M  9.63MB/s    in 2.5s    \n",
            "2025-01-22 21:52:01 URL:https://groups.inf.ed.ac.uk/ami/AMICorpusMirror/amicorpus/IS1004a/audio/IS1004a.Mix-Headset.wav [25500093/25500093] -> \"amicorpus/IS1004a/audio/IS1004a.Mix-Headset.wav\" [1]\n",
            "IS1005a.Mix-Headset 100%[===================>]  31.28M  11.2MB/s    in 2.8s    \n",
            "2025-01-22 21:52:05 URL:https://groups.inf.ed.ac.uk/ami/AMICorpusMirror/amicorpus/IS1005a/audio/IS1005a.Mix-Headset.wav [32796093/32796093] -> \"amicorpus/IS1005a/audio/IS1005a.Mix-Headset.wav\" [1]\n",
            "IS1006a.Mix-Headset 100%[===================>]  25.96M  9.84MB/s    in 2.6s    \n",
            "2025-01-22 21:52:08 URL:https://groups.inf.ed.ac.uk/ami/AMICorpusMirror/amicorpus/IS1006a/audio/IS1006a.Mix-Headset.wav [27222759/27222759] -> \"amicorpus/IS1006a/audio/IS1006a.Mix-Headset.wav\" [1]\n",
            "IS1007a.Mix-Headset 100%[===================>]  29.48M  10.5MB/s    in 2.8s    \n",
            "2025-01-22 21:52:12 URL:https://groups.inf.ed.ac.uk/ami/AMICorpusMirror/amicorpus/IS1007a/audio/IS1007a.Mix-Headset.wav [30913427/30913427] -> \"amicorpus/IS1007a/audio/IS1007a.Mix-Headset.wav\" [1]\n",
            "TS3005a.Mix-Headset 100%[===================>]  40.25M  14.1MB/s    in 2.9s    \n",
            "2025-01-22 21:52:16 URL:https://groups.inf.ed.ac.uk/ami/AMICorpusMirror/amicorpus/TS3005a/audio/TS3005a.Mix-Headset.wav [42203180/42203180] -> \"amicorpus/TS3005a/audio/TS3005a.Mix-Headset.wav\" [1]\n",
            "TS3006a.Mix-Headset 100%[===================>]  38.23M  13.5MB/s    in 2.8s    \n",
            "2025-01-22 21:52:19 URL:https://groups.inf.ed.ac.uk/ami/AMICorpusMirror/amicorpus/TS3006a/audio/TS3006a.Mix-Headset.wav [40091692/40091692] -> \"amicorpus/TS3006a/audio/TS3006a.Mix-Headset.wav\" [1]\n",
            "TS3007a.Mix-Headset 100%[===================>]  49.11M  14.0MB/s    in 4.1s    \n",
            "2025-01-22 21:52:24 URL:https://groups.inf.ed.ac.uk/ami/AMICorpusMirror/amicorpus/TS3007a/audio/TS3007a.Mix-Headset.wav [51499052/51499052] -> \"amicorpus/TS3007a/audio/TS3007a.Mix-Headset.wav\" [1]\n",
            "TS3008a.Mix-Headset 100%[===================>]  41.27M  13.4MB/s    in 3.1s    \n",
            "2025-01-22 21:52:28 URL:https://groups.inf.ed.ac.uk/ami/AMICorpusMirror/amicorpus/TS3008a/audio/TS3008a.Mix-Headset.wav [43271552/43271552] -> \"amicorpus/TS3008a/audio/TS3008a.Mix-Headset.wav\" [1]\n",
            "TS3009a.Mix-Headset 100%[===================>]  45.96M  12.7MB/s    in 3.6s    \n",
            "2025-01-22 21:52:33 URL:https://groups.inf.ed.ac.uk/ami/AMICorpusMirror/amicorpus/TS3009a/audio/TS3009a.Mix-Headset.wav [48188800/48188800] -> \"amicorpus/TS3009a/audio/TS3009a.Mix-Headset.wav\" [1]\n",
            "TS3010a.Mix-Headset 100%[===================>]  31.77M  10.3MB/s    in 3.1s    \n",
            "2025-01-22 21:52:37 URL:https://groups.inf.ed.ac.uk/ami/AMICorpusMirror/amicorpus/TS3010a/audio/TS3010a.Mix-Headset.wav [33312812/33312812] -> \"amicorpus/TS3010a/audio/TS3010a.Mix-Headset.wav\" [1]\n",
            "TS3011a.Mix-Headset 100%[===================>]  46.07M  11.5MB/s    in 4.0s    \n",
            "2025-01-22 21:52:42 URL:https://groups.inf.ed.ac.uk/ami/AMICorpusMirror/amicorpus/TS3011a/audio/TS3011a.Mix-Headset.wav [48312364/48312364] -> \"amicorpus/TS3011a/audio/TS3011a.Mix-Headset.wav\" [1]\n",
            "TS3012a.Mix-Headset 100%[===================>]  26.22M  11.4MB/s    in 2.3s    \n",
            "2025-01-22 21:52:45 URL:https://groups.inf.ed.ac.uk/ami/AMICorpusMirror/amicorpus/TS3012a/audio/TS3012a.Mix-Headset.wav [27499222/27499222] -> \"amicorpus/TS3012a/audio/TS3012a.Mix-Headset.wav\" [1]\n",
            "IS1008a.Mix-Headset 100%[===================>]  28.80M  10.9MB/s    in 2.6s    \n",
            "2025-01-22 21:52:50 URL:https://groups.inf.ed.ac.uk/ami/AMICorpusMirror/amicorpus/IS1008a/audio/IS1008a.Mix-Headset.wav [30204093/30204093] -> \"amicorpus/IS1008a/audio/IS1008a.Mix-Headset.wav\" [1]\n",
            "TS3004a.Mix-Headset 100%[===================>]  41.06M  14.1MB/s    in 2.9s    \n",
            "2025-01-22 21:52:53 URL:https://groups.inf.ed.ac.uk/ami/AMICorpusMirror/amicorpus/TS3004a/audio/TS3004a.Mix-Headset.wav [43050368/43050368] -> \"amicorpus/TS3004a/audio/TS3004a.Mix-Headset.wav\" [1]\n",
            "IS1009a.Mix-Headset 100%[===================>]  25.60M  10.2MB/s    in 2.5s    \n",
            "2025-01-22 21:52:58 URL:https://groups.inf.ed.ac.uk/ami/AMICorpusMirror/amicorpus/IS1009a/audio/IS1009a.Mix-Headset.wav [26844093/26844093] -> \"amicorpus/IS1009a/audio/IS1009a.Mix-Headset.wav\" [1]\n",
            "TS3003a.Mix-Headset 100%[===================>]  45.95M  11.0MB/s    in 4.2s    \n",
            "2025-01-22 21:53:03 URL:https://groups.inf.ed.ac.uk/ami/AMICorpusMirror/amicorpus/TS3003a/audio/TS3003a.Mix-Headset.wav [48180608/48180608] -> \"amicorpus/TS3003a/audio/TS3003a.Mix-Headset.wav\" [1]\n",
            "Fixing wav files with invalid chunks\n",
            "amicorpus/IS1007a/audio/IS1007a.Mix-Headset.wav has been properly reformated\n",
            "amicorpus/IS1005a/audio/IS1005a.Mix-Headset.wav has been properly reformated\n",
            "amicorpus/IS1004a/audio/IS1004a.Mix-Headset.wav has been properly reformated\n",
            "amicorpus/IS1006a/audio/IS1006a.Mix-Headset.wav has been properly reformated\n",
            "amicorpus/IS1008a/audio/IS1008a.Mix-Headset.wav has been properly reformated\n",
            "amicorpus/IS1009a/audio/IS1009a.Mix-Headset.wav has been properly reformated\n",
            "/content\n"
          ]
        }
      ],
      "source": [
        "!pip install -qq pyannote.audio==3.1.1\n",
        "!pip install -qq ipython==7.34.0\n",
        "!git clone https://github.com/pyannote/AMI-diarization-setup.git\n",
        "%cd ./AMI-diarization-setup/pyannote/\n",
        "!bash ./download_ami_mini.sh\n",
        "%cd /content"
      ]
    },
    {
      "cell_type": "markdown",
      "metadata": {
        "id": "VWo84u4ypEMc"
      },
      "source": [
        "⚠ Restart the runtime (Runtime > Restart session)."
      ]
    },
    {
      "cell_type": "markdown",
      "metadata": {
        "id": "zmnD8CUUnt1N"
      },
      "source": [
        "### Non `Google Colab` setup"
      ]
    },
    {
      "cell_type": "markdown",
      "metadata": {
        "id": "HS7SxeZkoth1"
      },
      "source": [
        "If you are not using `Colab`, this tutorial assumes that\n",
        "* `pyannote.audio` has been installed\n",
        "* the [AMI corpus](https://groups.inf.ed.ac.uk/ami/corpus/) has already been [setup for use with `pyannote`](https://github.com/pyannote/AMI-diarization-setup/tree/main/pyannote)\n"
      ]
    },
    {
      "cell_type": "code",
      "execution_count": 2,
      "metadata": {
        "id": "67whHDb3pOIe"
      },
      "outputs": [],
      "source": [
        "# preparing notebook for visualization purposes\n",
        "# (only show outputs between t=180s and t=240s)\n",
        "from pyannote.core import notebook, Segment\n",
        "notebook.crop = Segment(210, 240)"
      ]
    },
    {
      "cell_type": "markdown",
      "metadata": {
        "id": "z4-LIYSEnj5i"
      },
      "source": [
        "## Data preparation\n",
        "\n",
        "See [`pyannote.database` documentation](https://github.com/pyannote/pyannote-database#pyannote-database) to learn how to prepare your own dataset for training with `pyannote.audio`."
      ]
    },
    {
      "cell_type": "code",
      "execution_count": 3,
      "metadata": {
        "id": "8vw0KmndnX8L",
        "colab": {
          "base_uri": "https://localhost:8080/"
        },
        "outputId": "9c68fe9a-49da-4d32-cc76-241fb6c8bb85"
      },
      "outputs": [
        {
          "output_type": "stream",
          "name": "stdout",
          "text": [
            "'AMI-SDM.SpeakerDiarization.only_words' found in /content/AMI-diarization-setup/pyannote/database.yml does not define the 'scope' of speaker labels (file, database, or global). Setting it to 'file'.\n",
            "'AMI-SDM.SpeakerDiarization.mini' found in /content/AMI-diarization-setup/pyannote/database.yml does not define the 'scope' of speaker labels (file, database, or global). Setting it to 'file'.\n",
            "'AMI.SpeakerDiarization.only_words' found in /content/AMI-diarization-setup/pyannote/database.yml does not define the 'scope' of speaker labels (file, database, or global). Setting it to 'file'.\n",
            "'AMI.SpeakerDiarization.mini' found in /content/AMI-diarization-setup/pyannote/database.yml does not define the 'scope' of speaker labels (file, database, or global). Setting it to 'file'.\n",
            "'AMI.SpeakerDiarization.word_and_vocalsounds' found in /content/AMI-diarization-setup/pyannote/database.yml does not define the 'scope' of speaker labels (file, database, or global). Setting it to 'file'.\n"
          ]
        }
      ],
      "source": [
        "from pyannote.database import registry, FileFinder\n",
        "\n",
        "registry.load_database(\"AMI-diarization-setup/pyannote/database.yml\")\n",
        "ami = registry.get_protocol('AMI.SpeakerDiarization.mini')"
      ]
    },
    {
      "cell_type": "markdown",
      "metadata": {
        "id": "69qydyg6nX8M"
      },
      "source": [
        "## Training a voice activity detection model from scratch"
      ]
    },
    {
      "cell_type": "markdown",
      "metadata": {
        "id": "l0-I4_ApnX8N"
      },
      "source": [
        "Voice activity detection (VAD) is the task of detecting speech regions in a given audio stream or recording.\n",
        "\n",
        "We initialize a VAD *task* that describes how the model will be trained:\n",
        "\n",
        "* `ami` indicates that we will use files available in `ami.train()`.\n",
        "* `duration=2.` and `batch_size=128` indicates that the model will ingest batches of 128 two seconds long audio chunks."
      ]
    },
    {
      "cell_type": "code",
      "execution_count": 4,
      "metadata": {
        "id": "lFDktlSDnX8O",
        "colab": {
          "base_uri": "https://localhost:8080/"
        },
        "outputId": "f2915edb-0b14-45f2-a4e5-5cfd332dd5e6"
      },
      "outputs": [
        {
          "output_type": "stream",
          "name": "stderr",
          "text": [
            "/usr/local/lib/python3.11/dist-packages/pyannote/audio/core/io.py:43: UserWarning: torchaudio._backend.set_audio_backend has been deprecated. With dispatcher enabled, this function is no-op. You can remove the function call.\n",
            "  torchaudio.set_audio_backend(\"soundfile\")\n",
            "/usr/local/lib/python3.11/dist-packages/pyannote/audio/tasks/segmentation/mixins.py:37: UserWarning: `torchaudio.backend.common.AudioMetaData` has been moved to `torchaudio.AudioMetaData`. Please update the import path.\n",
            "  from torchaudio.backend.common import AudioMetaData\n"
          ]
        },
        {
          "output_type": "stream",
          "name": "stdout",
          "text": [
            "Protocol AMI.SpeakerDiarization.mini does not provide the path to audio files: adding an 'audio' preprocessor for you. See pyannote.database documentation on how to do that yourself.\n",
            "Protocol AMI.SpeakerDiarization.mini does not precompute the output of torchaudio.info(): adding a 'torchaudio.info' preprocessor for you to speed up dataloaders. See pyannote.database documentation on how to do that yourself.\n"
          ]
        }
      ],
      "source": [
        "from pyannote.audio.tasks import VoiceActivityDetection\n",
        "vad_task = VoiceActivityDetection(ami, duration=2.0, batch_size=128)"
      ]
    },
    {
      "cell_type": "markdown",
      "metadata": {
        "id": "EZ0Kje3RnX8Q"
      },
      "source": [
        "We initialize one *model* with the `PyanNet` architecture used [in that paper](https://arxiv.org/abs/2104.04045).  \n",
        "In particular, we increase the default stride of the initial `sincnet` feature extraction layer to `10`.\n",
        "\n",
        "The model is also provided with the task (`task=vad_task`) for which it is being trained:"
      ]
    },
    {
      "cell_type": "code",
      "execution_count": 6,
      "metadata": {
        "id": "kSfY8Y3fnX8R"
      },
      "outputs": [],
      "source": [
        "from pyannote.audio.models.segmentation import PyanNet\n",
        "vad_model = PyanNet(task=vad_task, sincnet={'stride': 10})"
      ]
    },
    {
      "cell_type": "markdown",
      "metadata": {
        "id": "WCNd35YInX8T"
      },
      "source": [
        "Now that everything is ready, let's train with `pytorch-ligthning`!"
      ]
    },
    {
      "cell_type": "code",
      "execution_count": null,
      "metadata": {
        "id": "ExlUZ6DonX8U",
        "colab": {
          "base_uri": "https://localhost:8080/",
          "height": 500,
          "referenced_widgets": [
            "7d2fa1268a0a428493f9b5b91b45bbde",
            "055ce3283d2d486190b99bca2fa8cbbf",
            "2d79da0145b54f5c8882d3db1601ce56",
            "13097655dea94876a3ba5a8240057760",
            "7157c95acd2f41beac8b2ceb0194805b",
            "67b89296a38d49b6ab8beb98608c5c60",
            "e5cf9322b6f04c7b843796b9e26d17b5",
            "360f908932f84351892cdac9dac75c6d",
            "2411124900bd42a58d0552966087609f",
            "d745e51e37a6438eadce7fc57263ce1f",
            "bdfcaa35f8a84b4c8fcb35facf3f2a32",
            "6c1db9d0d8234522acb52fecab400180",
            "5d87637f4ebd475f9150c240cf99f1a8",
            "96206a4f3ad743c19f8457b530353602",
            "f8c3b803a72444bdb670a3002a8e4bef",
            "21e76e0c80bc429b8d33fa6ca65da0ac",
            "d0a884a1356a46e3b5ef156f4d49b6f0",
            "9967b47223ec4912bb4cff4274ee1283",
            "8556eeaf469645919c5b06751fecc60d",
            "cf82f3a4b8f047c4b1da41c5f8d84b20",
            "b178f46e9b544f0a948e3ed51926adff",
            "e8ceffec67cf4b5a80e78c888bfb2736",
            "f7f8e76533fa4a2a803b71c47d3ca221",
            "d3f0153fd6dd4076b9f323df1581fc31",
            "16e072ca0a58474ebeb866fc9aa5cb7b",
            "c98d5fce7b24482aa53993c1ffd352e0",
            "6d18b0e31c194135bc875d707ae3cd1b",
            "15c8d8973cf24524a17b916c5bb13792",
            "678fb2c6eeb841a6a20398d56d3f1477",
            "bb484d1cc775427b81b966eebf2848a6",
            "2a33c788c2cb44da85750a05f83d2c54",
            "0aad460f8aaf46bea0023692fec12343",
            "bfd1424e45f04f2eaf61dba28700f336"
          ]
        },
        "outputId": "25858140-2f1c-4e4d-cb52-2e603a65afc1"
      },
      "outputs": [
        {
          "output_type": "stream",
          "name": "stderr",
          "text": [
            "INFO:pytorch_lightning.utilities.rank_zero:GPU available: True (cuda), used: True\n",
            "INFO:pytorch_lightning.utilities.rank_zero:TPU available: False, using: 0 TPU cores\n",
            "INFO:pytorch_lightning.utilities.rank_zero:HPU available: False, using: 0 HPUs\n",
            "INFO:pytorch_lightning.accelerators.cuda:LOCAL_RANK: 0 - CUDA_VISIBLE_DEVICES: [0]\n",
            "INFO:pytorch_lightning.callbacks.model_summary:\n",
            "  | Name              | Type             | Params | Mode  | In sizes      | Out sizes                                  \n",
            "-----------------------------------------------------------------------------------------------------------------------------\n",
            "0 | sincnet           | SincNet          | 42.6 K | train | [1, 1, 32000] | [1, 60, 115]                               \n",
            "1 | lstm              | LSTM             | 589 K  | train | [1, 115, 60]  | [[1, 115, 256], [[4, 1, 128], [4, 1, 128]]]\n",
            "2 | linear            | ModuleList       | 49.4 K | train | ?             | ?                                          \n",
            "3 | classifier        | Linear           | 129    | train | [1, 115, 128] | [1, 115, 1]                                \n",
            "4 | activation        | Sigmoid          | 0      | train | [1, 115, 1]   | [1, 115, 1]                                \n",
            "5 | validation_metric | MetricCollection | 0      | train | ?             | ?                                          \n",
            "-----------------------------------------------------------------------------------------------------------------------------\n",
            "681 K     Trainable params\n",
            "0         Non-trainable params\n",
            "681 K     Total params\n",
            "2.728     Total estimated model params size (MB)\n",
            "23        Modules in train mode\n",
            "0         Modules in eval mode\n"
          ]
        },
        {
          "output_type": "display_data",
          "data": {
            "text/plain": [
              "Sanity Checking: |          | 0/? [00:00<?, ?it/s]"
            ],
            "application/vnd.jupyter.widget-view+json": {
              "version_major": 2,
              "version_minor": 0,
              "model_id": "7d2fa1268a0a428493f9b5b91b45bbde"
            }
          },
          "metadata": {}
        },
        {
          "output_type": "stream",
          "name": "stderr",
          "text": [
            "/usr/local/lib/python3.11/dist-packages/pytorch_lightning/utilities/data.py:123: Your `IterableDataset` has `__len__` defined. In combination with multi-process data loading (when num_workers > 1), `__len__` could be inaccurate if each worker is not configured independently to avoid having duplicate data.\n"
          ]
        },
        {
          "output_type": "display_data",
          "data": {
            "text/plain": [
              "Training: |          | 0/? [00:00<?, ?it/s]"
            ],
            "application/vnd.jupyter.widget-view+json": {
              "version_major": 2,
              "version_minor": 0,
              "model_id": "6c1db9d0d8234522acb52fecab400180"
            }
          },
          "metadata": {}
        },
        {
          "output_type": "stream",
          "name": "stderr",
          "text": [
            "/usr/local/lib/python3.11/dist-packages/torch_audiomentations/core/transforms_interface.py:221: UserWarning: target_rate is required by Identity. It has been automatically inferred from targets shape to 58. If this is incorrect, you can pass it directly.\n",
            "  warnings.warn(\n"
          ]
        },
        {
          "output_type": "display_data",
          "data": {
            "text/plain": [
              "Validation: |          | 0/? [00:00<?, ?it/s]"
            ],
            "application/vnd.jupyter.widget-view+json": {
              "version_major": 2,
              "version_minor": 0,
              "model_id": "f7f8e76533fa4a2a803b71c47d3ca221"
            }
          },
          "metadata": {}
        }
      ],
      "source": [
        "import pytorch_lightning as pl\n",
        "\n",
        "trainer = pl.Trainer(devices=1, max_epochs=1)\n",
        "vad_model.to(trainer.strategy.root_device)\n",
        "trainer.fit(vad_model)"
      ]
    },
    {
      "cell_type": "markdown",
      "metadata": {
        "id": "Ti2Gx-z6nX8W"
      },
      "source": [
        "For the purpose of this tutorial, the model is trained for only 1 epoch. One can obviously expect better performance by training longer and on more data.\n",
        "\n",
        "See [`pytorch-lightning`](https://www.pytorchlightning.ai/) documentation to learn more about the [`Trainer` API](https://pytorch-lightning.readthedocs.io/en/latest/common/trainer.html), in particular."
      ]
    },
    {
      "cell_type": "markdown",
      "metadata": {
        "id": "mo49WUfYnX8W"
      },
      "source": [
        "Once trained, the model can be applied to a test file:"
      ]
    },
    {
      "cell_type": "code",
      "execution_count": null,
      "metadata": {
        "id": "b-iBNQ7mnX8X"
      },
      "outputs": [],
      "source": [
        "test_file = next(ami.test())\n",
        "# here we use a test file provided by the protocol, but it could be any audio file\n",
        "# e.g. test_file = \"/path/to/test.wav\"."
      ]
    },
    {
      "cell_type": "markdown",
      "metadata": {
        "id": "dRAWxFw2nX8X"
      },
      "source": [
        "Because the model was trained on 2s audio chunks and that test files are likely to be much longer than that, we wrap the `model` with an `Inference` instance: it will take care of sliding a 2s window over the whole file and aggregate the output of the model."
      ]
    },
    {
      "cell_type": "code",
      "execution_count": null,
      "metadata": {
        "id": "AR8douSWnX8Y"
      },
      "outputs": [],
      "source": [
        "from pyannote.audio import Inference\n",
        "vad = Inference(vad_model)\n",
        "\n",
        "vad_probability = vad(test_file)\n",
        "vad_probability"
      ]
    },
    {
      "cell_type": "markdown",
      "metadata": {
        "id": "vYf27Tg9nX8Z"
      },
      "source": [
        "Perfect voice activity detection output should look like that:"
      ]
    },
    {
      "cell_type": "code",
      "execution_count": null,
      "metadata": {
        "id": "DRX0bew-nX8Z"
      },
      "outputs": [],
      "source": [
        "expected_output = test_file[\"annotation\"].get_timeline().support()\n",
        "expected_output"
      ]
    },
    {
      "cell_type": "markdown",
      "metadata": {
        "id": "dzNs5vrUnX8a"
      },
      "source": [
        "## Fine-tuning a pretrained speaker segmentation model\n",
        "\n",
        "Speaker diarization is the task of partitioning a given audio stream of recording into according to the speaker identity.\n",
        "\n",
        "[`pyannote/segmentation`](https://huggingface.co/pyannote/segmentation-3.0) is a model that was pretrained to perform speaker diarization, but only locally, on 10s-long audio chunks.\n",
        "\n",
        "To load the speaker segmentation model,\n",
        "\n",
        "* accept the user conditions on [hf.co/pyannote/segmentation](https://hf.co/pyannote/segmentation-3.0).\n",
        "* login using `notebook_login` below"
      ]
    },
    {
      "cell_type": "code",
      "execution_count": null,
      "metadata": {
        "id": "peG_1xclnX8b"
      },
      "outputs": [],
      "source": [
        "from huggingface_hub import notebook_login\n",
        "notebook_login()"
      ]
    },
    {
      "cell_type": "code",
      "execution_count": null,
      "metadata": {
        "id": "wO1fXdA9nX8c"
      },
      "outputs": [],
      "source": [
        "from pyannote.audio import Model\n",
        "pretrained = Model.from_pretrained(\"pyannote/segmentation-3.0\", use_auth_token=True)"
      ]
    },
    {
      "cell_type": "markdown",
      "metadata": {
        "id": "zm1-d-IsnX8d"
      },
      "source": [
        "Let's visualize how it performs on our test file:"
      ]
    },
    {
      "cell_type": "code",
      "execution_count": 8,
      "metadata": {
        "id": "beFpRrN-nX8d",
        "colab": {
          "base_uri": "https://localhost:8080/",
          "height": 159
        },
        "outputId": "010d306e-9e90-4066-e5e4-7ee13010fb88"
      },
      "outputs": [
        {
          "output_type": "error",
          "ename": "NameError",
          "evalue": "name 'Inference' is not defined",
          "traceback": [
            "\u001b[0;31m---------------------------------------------------------------------------\u001b[0m",
            "\u001b[0;31mNameError\u001b[0m                                 Traceback (most recent call last)",
            "\u001b[0;32m<ipython-input-8-1b285bc780ff>\u001b[0m in \u001b[0;36m<cell line: 0>\u001b[0;34m()\u001b[0m\n\u001b[0;32m----> 1\u001b[0;31m \u001b[0mspk_probability\u001b[0m \u001b[0;34m=\u001b[0m \u001b[0mInference\u001b[0m\u001b[0;34m(\u001b[0m\u001b[0mpretrained\u001b[0m\u001b[0;34m,\u001b[0m \u001b[0mstep\u001b[0m\u001b[0;34m=\u001b[0m\u001b[0;36m2.5\u001b[0m\u001b[0;34m)\u001b[0m\u001b[0;34m(\u001b[0m\u001b[0mtest_file\u001b[0m\u001b[0;34m)\u001b[0m\u001b[0;34m\u001b[0m\u001b[0;34m\u001b[0m\u001b[0m\n\u001b[0m\u001b[1;32m      2\u001b[0m \u001b[0mspk_probability\u001b[0m\u001b[0;34m\u001b[0m\u001b[0;34m\u001b[0m\u001b[0m\n",
            "\u001b[0;31mNameError\u001b[0m: name 'Inference' is not defined"
          ]
        }
      ],
      "source": [
        "spk_probability = Inference(pretrained, step=2.5)(test_file)\n",
        "spk_probability"
      ]
    },
    {
      "cell_type": "markdown",
      "metadata": {
        "id": "hrJ9pDbTnX8e"
      },
      "source": [
        "A perfect output would look like that:"
      ]
    },
    {
      "cell_type": "code",
      "execution_count": 9,
      "metadata": {
        "id": "bLcE98G4nX8f",
        "outputId": "5ff91d34-9cf9-4005-eaa5-5bbbbcd0e077",
        "colab": {
          "base_uri": "https://localhost:8080/",
          "height": 141
        }
      },
      "outputs": [
        {
          "output_type": "error",
          "ename": "NameError",
          "evalue": "name 'test_file' is not defined",
          "traceback": [
            "\u001b[0;31m---------------------------------------------------------------------------\u001b[0m",
            "\u001b[0;31mNameError\u001b[0m                                 Traceback (most recent call last)",
            "\u001b[0;32m<ipython-input-9-07e17ed48070>\u001b[0m in \u001b[0;36m<cell line: 0>\u001b[0;34m()\u001b[0m\n\u001b[0;32m----> 1\u001b[0;31m \u001b[0mtest_file\u001b[0m\u001b[0;34m[\u001b[0m\u001b[0;34m\"annotation\"\u001b[0m\u001b[0;34m]\u001b[0m\u001b[0;34m.\u001b[0m\u001b[0mdiscretize\u001b[0m\u001b[0;34m(\u001b[0m\u001b[0mnotebook\u001b[0m\u001b[0;34m.\u001b[0m\u001b[0mcrop\u001b[0m\u001b[0;34m,\u001b[0m \u001b[0mresolution\u001b[0m\u001b[0;34m=\u001b[0m\u001b[0;36m0.010\u001b[0m\u001b[0;34m)\u001b[0m\u001b[0;34m\u001b[0m\u001b[0;34m\u001b[0m\u001b[0m\n\u001b[0m",
            "\u001b[0;31mNameError\u001b[0m: name 'test_file' is not defined"
          ]
        }
      ],
      "source": [
        "test_file[\"annotation\"].discretize(notebook.crop, resolution=0.010)"
      ]
    },
    {
      "cell_type": "markdown",
      "metadata": {
        "id": "9DY3NIY5nX8f"
      },
      "source": [
        "We are going to fine-tune this pretrained model on the AMI dataset:"
      ]
    },
    {
      "cell_type": "code",
      "execution_count": null,
      "metadata": {
        "id": "GJ2BWqqknX8g"
      },
      "outputs": [],
      "source": [
        "from pyannote.audio.tasks import SpeakerDiarization\n",
        "seg_task = SpeakerDiarization(ami, duration=10.0, max_speakers_per_chunk=3, max_speakers_per_frame=2)"
      ]
    },
    {
      "cell_type": "markdown",
      "metadata": {
        "id": "y6e77EJ-nX8g"
      },
      "source": [
        "To check that fine-tuning was actually helpful, we need to evaluate the performance of the pretrained model, and compute the average local diarization error rate on a 10s window sliding over the whole test set. To do so, we need to create a helper function:"
      ]
    },
    {
      "cell_type": "code",
      "execution_count": null,
      "metadata": {
        "id": "XxJs0DtCnX8h"
      },
      "outputs": [],
      "source": [
        "def test(model, protocol, subset=\"test\"):\n",
        "    from pyannote.audio.utils.signal import binarize\n",
        "    from pyannote.audio.utils.metric import DiscreteDiarizationErrorRate\n",
        "    from pyannote.audio.pipelines.utils import get_devices\n",
        "\n",
        "    (device,) = get_devices(needs=1)\n",
        "    metric = DiscreteDiarizationErrorRate()\n",
        "    files = list(getattr(protocol, subset)())\n",
        "\n",
        "    inference = Inference(model, device=device)\n",
        "\n",
        "    for file in files:\n",
        "        reference = file[\"annotation\"]\n",
        "        hypothesis = binarize(inference(file))\n",
        "        uem = file[\"annotated\"]\n",
        "        _ = metric(reference, hypothesis, uem=uem)\n",
        "\n",
        "    return abs(metric)"
      ]
    },
    {
      "cell_type": "markdown",
      "metadata": {
        "id": "Nkdm0dR0nX8h"
      },
      "source": [
        "We can then evaluate the model and see its local DER:"
      ]
    },
    {
      "cell_type": "code",
      "execution_count": null,
      "metadata": {
        "id": "LH0CGdmnnX8i",
        "outputId": "b07ba927-6f23-403a-d70b-74cf8685df06"
      },
      "outputs": [
        {
          "name": "stdout",
          "output_type": "stream",
          "text": [
            "Local DER (pretrained) = 19.7%\n"
          ]
        }
      ],
      "source": [
        "der_pretrained = test(model=pretrained, protocol=ami, subset=\"test\")\n",
        "print(f\"Local DER (pretrained) = {der_pretrained * 100:.1f}%\")"
      ]
    },
    {
      "cell_type": "markdown",
      "metadata": {
        "id": "qUCdup8QnX8i"
      },
      "source": [
        "Next, we prepare the model for fine-tuning, simply by overriding its `task` attribute..."
      ]
    },
    {
      "cell_type": "code",
      "execution_count": null,
      "metadata": {
        "id": "5i5Bv-7enX8j"
      },
      "outputs": [],
      "source": [
        "from copy import deepcopy\n",
        "finetuned = deepcopy(pretrained)\n",
        "finetuned.task = seg_task"
      ]
    },
    {
      "cell_type": "markdown",
      "metadata": {
        "id": "nDPEYDZKnX8j"
      },
      "source": [
        "... and we train it (for just one epoch)"
      ]
    },
    {
      "cell_type": "code",
      "execution_count": null,
      "metadata": {
        "colab": {
          "referenced_widgets": [
            "",
            "634877439d6744d88223cfd1313e5fc1",
            "fc1c93f0b95649b1ae7a7135c9c04d62",
            "5c98a5f8cd8f4d90bf790cd1fa59855a",
            "20211f5562804ebe87a67b587cab6ac7"
          ]
        },
        "id": "AIUsJ3MqnX8k",
        "outputId": "6078a5dd-5cb2-4780-db4e-e3516d1cce8e"
      },
      "outputs": [
        {
          "name": "stderr",
          "output_type": "stream",
          "text": [
            "GPU available: False, used: False\n",
            "TPU available: False, using: 0 TPU cores\n",
            "IPU available: False, using: 0 IPUs\n",
            "HPU available: False, using: 0 HPUs\n"
          ]
        },
        {
          "name": "stderr",
          "output_type": "stream",
          "text": [
            "\n",
            "  | Name              | Type             | Params | In sizes       | Out sizes                                  \n",
            "----------------------------------------------------------------------------------------------------------------------\n",
            "0 | sincnet           | SincNet          | 42.6 K | [1, 1, 160000] | [1, 60, 589]                               \n",
            "1 | lstm              | LSTM             | 1.4 M  | [1, 589, 60]   | [[1, 589, 256], [[8, 1, 128], [8, 1, 128]]]\n",
            "2 | linear            | ModuleList       | 49.4 K | ?              | ?                                          \n",
            "3 | classifier        | Linear           | 903    | [1, 589, 128]  | [1, 589, 7]                                \n",
            "4 | activation        | LogSoftmax       | 0      | [1, 589, 7]    | [1, 589, 7]                                \n",
            "5 | powerset          | Powerset         | 0      | ?              | ?                                          \n",
            "6 | validation_metric | MetricCollection | 0      | ?              | ?                                          \n",
            "----------------------------------------------------------------------------------------------------------------------\n",
            "1.5 M     Trainable params\n",
            "0         Non-trainable params\n",
            "1.5 M     Total params\n",
            "5.893     Total estimated model params size (MB)\n"
          ]
        },
        {
          "data": {
            "application/vnd.jupyter.widget-view+json": {
              "model_id": "fc1c93f0b95649b1ae7a7135c9c04d62",
              "version_major": 2,
              "version_minor": 0
            },
            "text/plain": [
              "Sanity Checking: |          | 0/? [00:00<?, ?it/s]"
            ]
          },
          "metadata": {},
          "output_type": "display_data"
        },
        {
          "data": {
            "application/vnd.jupyter.widget-view+json": {
              "model_id": "5c98a5f8cd8f4d90bf790cd1fa59855a",
              "version_major": 2,
              "version_minor": 0
            },
            "text/plain": [
              "Training: |          | 0/? [00:00<?, ?it/s]"
            ]
          },
          "metadata": {},
          "output_type": "display_data"
        },
        {
          "data": {
            "application/vnd.jupyter.widget-view+json": {
              "model_id": "20211f5562804ebe87a67b587cab6ac7",
              "version_major": 2,
              "version_minor": 0
            },
            "text/plain": [
              "Validation: |          | 0/? [00:00<?, ?it/s]"
            ]
          },
          "metadata": {},
          "output_type": "display_data"
        },
        {
          "name": "stderr",
          "output_type": "stream",
          "text": [
            "`Trainer.fit` stopped: `max_epochs=1` reached.\n"
          ]
        }
      ],
      "source": [
        "trainer = pl.Trainer(devices=1, max_epochs=1)\n",
        "trainer.fit(finetuned)"
      ]
    },
    {
      "cell_type": "markdown",
      "metadata": {
        "id": "jSotawK0nX8z"
      },
      "source": [
        "We now evaluate the performance of the fine-tuned model..."
      ]
    },
    {
      "cell_type": "code",
      "execution_count": null,
      "metadata": {
        "id": "VNmCSkdfnX80",
        "outputId": "7bfcef09-901d-441b-b73a-9b20f5b29b86"
      },
      "outputs": [
        {
          "name": "stdout",
          "output_type": "stream",
          "text": [
            "Local DER (finetuned) = 18.8%\n"
          ]
        }
      ],
      "source": [
        "der_finetuned = test(model=finetuned, protocol=ami, subset=\"test\")\n",
        "print(f\"Local DER (finetuned) = {der_finetuned * 100:.1f}%\")"
      ]
    },
    {
      "cell_type": "markdown",
      "metadata": {
        "id": "U5v6fQptnX81"
      },
      "source": [
        "... to confirm that it actually improved its performance on the AMI test set.\n",
        "\n",
        "\n",
        "## Transfer learning\n",
        "\n",
        "What if you are only interested in detecting overlapped speech regions?\n",
        "\n",
        "Looking at the output of the `pyannote/segmentation-3.0` model, it seems that it would be a good starting point for training such a dedicated model:"
      ]
    },
    {
      "cell_type": "code",
      "execution_count": null,
      "metadata": {
        "id": "3bRoUeAVnX81",
        "outputId": "b9db7010-5e4e-4028-b2a1-95e3525db93b"
      },
      "outputs": [
        {
          "data": {
            "image/png": "[encoded data removed]",
            "text/plain": [
              "<pyannote.core.feature.SlidingWindowFeature at 0x7f2873347a60>"
            ]
          },
          "execution_count": 19,
          "metadata": {},
          "output_type": "execute_result"
        }
      ],
      "source": [
        "Inference('pyannote/segmentation-3.0', use_auth_token=True, step=2.5)(test_file)"
      ]
    },
    {
      "cell_type": "code",
      "execution_count": null,
      "metadata": {
        "id": "DvpRY7H1nX82",
        "outputId": "ce284d08-e0f1-4a58-da1e-0b7c62fa2f31"
      },
      "outputs": [
        {
          "data": {
            "image/png": "[encoded data removed]",
            "text/plain": [
              "<pyannote.core.annotation.Annotation at 0x7f28d69fefb0>"
            ]
          },
          "execution_count": 20,
          "metadata": {},
          "output_type": "execute_result"
        }
      ],
      "source": [
        "test_file[\"annotation\"]"
      ]
    },
    {
      "cell_type": "markdown",
      "metadata": {
        "id": "hjw4nIE7nX83"
      },
      "source": [
        "Let's update the model so that it specifically addresses overlapped speech detection.  \n",
        "This is achieved very simply by updating the `task` attribute..."
      ]
    },
    {
      "cell_type": "code",
      "execution_count": null,
      "metadata": {
        "id": "xhmDk1qJnX83"
      },
      "outputs": [],
      "source": [
        "from pyannote.audio.tasks import OverlappedSpeechDetection\n",
        "osd_task = OverlappedSpeechDetection(ami, duration=2.0)\n",
        "\n",
        "osd_model = Model.from_pretrained(\"pyannote/segmentation-3.0\", use_auth_token=True)\n",
        "osd_model.task = osd_task"
      ]
    },
    {
      "cell_type": "markdown",
      "metadata": {
        "id": "wbb0MeQanX84"
      },
      "source": [
        "... optionally freeezing a bunch of layers..."
      ]
    },
    {
      "cell_type": "code",
      "execution_count": null,
      "metadata": {
        "id": "tuE1xNjunX84",
        "outputId": "2211d836-8bda-4550-a5e2-7646c764c0af"
      },
      "outputs": [
        {
          "data": {
            "text/plain": [
              "['sincnet',\n",
              " 'sincnet.wav_norm1d',\n",
              " 'sincnet.conv1d',\n",
              " 'sincnet.conv1d.0',\n",
              " 'sincnet.conv1d.0.filterbank',\n",
              " 'sincnet.conv1d.1',\n",
              " 'sincnet.conv1d.2',\n",
              " 'sincnet.pool1d',\n",
              " 'sincnet.pool1d.0',\n",
              " 'sincnet.pool1d.1',\n",
              " 'sincnet.pool1d.2',\n",
              " 'sincnet.norm1d',\n",
              " 'sincnet.norm1d.0',\n",
              " 'sincnet.norm1d.1',\n",
              " 'sincnet.norm1d.2',\n",
              " 'lstm']"
            ]
          },
          "execution_count": 22,
          "metadata": {},
          "output_type": "execute_result"
        }
      ],
      "source": [
        "osd_model.freeze_up_to('lstm')"
      ]
    },
    {
      "cell_type": "markdown",
      "metadata": {
        "id": "DrKqQyXonX85"
      },
      "source": [
        "... and training it:"
      ]
    },
    {
      "cell_type": "code",
      "execution_count": null,
      "metadata": {
        "colab": {
          "referenced_widgets": [
            "",
            "17ca908b800f4d34841bc2c7d5ccdff3",
            "7a9dfccd597f477bb2990e2746433375",
            "f24057dd69a449a19e04d400305e137d",
            "434c310479c8425ea51772167a0ef10b"
          ]
        },
        "id": "z9PIQ4oUnX85",
        "outputId": "ed98a898-d9a2-4895-d523-9660abf79f1e"
      },
      "outputs": [
        {
          "name": "stderr",
          "output_type": "stream",
          "text": [
            "GPU available: False, used: False\n",
            "TPU available: False, using: 0 TPU cores\n",
            "IPU available: False, using: 0 IPUs\n",
            "HPU available: False, using: 0 HPUs\n"
          ]
        },
        {
          "name": "stderr",
          "output_type": "stream",
          "text": [
            "\n",
            "  | Name              | Type             | Params | In sizes      | Out sizes                                  \n",
            "---------------------------------------------------------------------------------------------------------------------\n",
            "0 | sincnet           | SincNet          | 42.6 K | [1, 1, 32000] | [1, 60, 115]                               \n",
            "1 | lstm              | LSTM             | 1.4 M  | [1, 115, 60]  | [[1, 115, 256], [[8, 1, 128], [8, 1, 128]]]\n",
            "2 | linear            | ModuleList       | 49.4 K | ?             | ?                                          \n",
            "3 | classifier        | Linear           | 129    | [1, 115, 128] | [1, 115, 1]                                \n",
            "4 | activation        | Sigmoid          | 0      | [1, 115, 1]   | [1, 115, 1]                                \n",
            "5 | validation_metric | MetricCollection | 0      | ?             | ?                                          \n",
            "---------------------------------------------------------------------------------------------------------------------\n",
            "49.5 K    Trainable params\n",
            "1.4 M     Non-trainable params\n",
            "1.5 M     Total params\n",
            "5.890     Total estimated model params size (MB)\n"
          ]
        },
        {
          "data": {
            "application/vnd.jupyter.widget-view+json": {
              "model_id": "7a9dfccd597f477bb2990e2746433375",
              "version_major": 2,
              "version_minor": 0
            },
            "text/plain": [
              "Sanity Checking: |          | 0/? [00:00<?, ?it/s]"
            ]
          },
          "metadata": {},
          "output_type": "display_data"
        },
        {
          "data": {
            "application/vnd.jupyter.widget-view+json": {
              "model_id": "f24057dd69a449a19e04d400305e137d",
              "version_major": 2,
              "version_minor": 0
            },
            "text/plain": [
              "Training: |          | 0/? [00:00<?, ?it/s]"
            ]
          },
          "metadata": {},
          "output_type": "display_data"
        },
        {
          "data": {
            "application/vnd.jupyter.widget-view+json": {
              "model_id": "434c310479c8425ea51772167a0ef10b",
              "version_major": 2,
              "version_minor": 0
            },
            "text/plain": [
              "Validation: |          | 0/? [00:00<?, ?it/s]"
            ]
          },
          "metadata": {},
          "output_type": "display_data"
        },
        {
          "name": "stderr",
          "output_type": "stream",
          "text": [
            "`Trainer.fit` stopped: `max_epochs=1` reached.\n"
          ]
        }
      ],
      "source": [
        "trainer = pl.Trainer(devices=1, max_epochs=1)\n",
        "trainer.fit(osd_model)"
      ]
    },
    {
      "cell_type": "markdown",
      "metadata": {
        "id": "B5adPAy8nX86"
      },
      "source": [
        "Et voilà! A brand new overlapped speech detection model!"
      ]
    },
    {
      "cell_type": "code",
      "execution_count": null,
      "metadata": {
        "id": "jZHEnmw7nX86",
        "outputId": "3856fee4-7547-4297-a56b-bbc59544be52"
      },
      "outputs": [
        {
          "data": {
            "image/png": "[encoded data removed]",
            "text/plain": [
              "<pyannote.core.feature.SlidingWindowFeature at 0x7f2a11452c20>"
            ]
          },
          "execution_count": 24,
          "metadata": {},
          "output_type": "execute_result"
        }
      ],
      "source": [
        "from pyannote.audio.utils.signal import binarize\n",
        "binarize(Inference(osd_model)(test_file))"
      ]
    },
    {
      "cell_type": "code",
      "execution_count": null,
      "metadata": {
        "id": "P_7CB2wgnX87",
        "outputId": "a5e3a05f-8695-4880-9380-fbde264ca06f"
      },
      "outputs": [
        {
          "data": {
            "image/png": "[encoded data removed]",
            "text/plain": [
              "<pyannote.core.annotation.Annotation at 0x7f28d69fefb0>"
            ]
          },
          "execution_count": 25,
          "metadata": {},
          "output_type": "execute_result"
        }
      ],
      "source": [
        "test_file[\"annotation\"]"
      ]
    },
    {
      "cell_type": "markdown",
      "metadata": {
        "id": "A4OM7DzwnX88"
      },
      "source": [
        "## Going further\n",
        "\n",
        "This tutorial only scratched the surface of the training API.\n",
        "\n",
        "Every task supports an `augmentation` parameter for training with data augmentation via [`torch-audiomentations`](https://github.com/asteroid-team/torch-audiomentations) library:\n",
        "\n",
        "```python\n",
        "from torch_audiomentations import AddBackgroundNoise\n",
        "augmentation = AddBackgroundNoise(\"/path/to/background/noise/directory\")\n",
        "vad_task = VoiceActivityDetection(ami, augmentation=augmentation)\n",
        "```\n",
        "\n",
        "We also benefit from all the nice things [`pytorch-lightning`](https://lightning.ai/docs/pytorch/stable/) has to offer (like multi-gpu training, for instance).\n",
        "\n",
        "```python\n",
        "trainer = Trainer(devices=4, accelerator=\"gpu\", strategy='ddp')\n",
        "trainer.fit(model)\n",
        "```\n",
        "\n",
        "Default optimizer (`Adam` with default parameters) is automatically set up for you.  \n",
        "Customizing optimizer (and scheduler) requires overriding [`model.configure_optimizers`](https://lightning.ai/docs/pytorch/stable/common/lightning_module.html#configure-optimizers) method:\n",
        "\n",
        "```python\n",
        "from types import MethodType\n",
        "from torch.optim import SGD\n",
        "from torch.optim.lr_scheduler import ExponentialLR\n",
        "def configure_optimizers(self):\n",
        "    return {\"optimizer\": SGD(self.parameters()),\n",
        "            \"lr_scheduler\": ExponentialLR(optimizer, 0.9)}\n",
        "model.configure_optimizers = MethodType(configure_optimizers, model)\n",
        "trainer.fit(model)\n",
        "```"
      ]
    }
  ],
  "metadata": {
    "accelerator": "GPU",
    "colab": {
      "gpuType": "T4",
      "provenance": []
    },
    "kernelspec": {
      "display_name": "Python 3",
      "name": "python3"
    },
    "language_info": {
      "codemirror_mode": {
        "name": "ipython",
        "version": 3
      },
      "file_extension": ".py",
      "mimetype": "text/x-python",
      "name": "python",
      "nbconvert_exporter": "python",
      "pygments_lexer": "ipython3",
      "version": "3.10.13"
    },
    "widgets": {
      "application/vnd.jupyter.widget-state+json": {
        "7d2fa1268a0a428493f9b5b91b45bbde": {
          "model_module": "@jupyter-widgets/controls",
          "model_name": "HBoxModel",
          "model_module_version": "1.5.0",
          "state": {
            "_dom_classes": [],
            "_model_module": "@jupyter-widgets/controls",
            "_model_module_version": "1.5.0",
            "_model_name": "HBoxModel",
            "_view_count": null,
            "_view_module": "@jupyter-widgets/controls",
            "_view_module_version": "1.5.0",
            "_view_name": "HBoxView",
            "box_style": "",
            "children": [
              "IPY_MODEL_055ce3283d2d486190b99bca2fa8cbbf",
              "IPY_MODEL_2d79da0145b54f5c8882d3db1601ce56",
              "IPY_MODEL_13097655dea94876a3ba5a8240057760"
            ],
            "layout": "IPY_MODEL_7157c95acd2f41beac8b2ceb0194805b"
          }
        },
        "055ce3283d2d486190b99bca2fa8cbbf": {
          "model_module": "@jupyter-widgets/controls",
          "model_name": "HTMLModel",
          "model_module_version": "1.5.0",
          "state": {
            "_dom_classes": [],
            "_model_module": "@jupyter-widgets/controls",
            "_model_module_version": "1.5.0",
            "_model_name": "HTMLModel",
            "_view_count": null,
            "_view_module": "@jupyter-widgets/controls",
            "_view_module_version": "1.5.0",
            "_view_name": "HTMLView",
            "description": "",
            "description_tooltip": null,
            "layout": "IPY_MODEL_67b89296a38d49b6ab8beb98608c5c60",
            "placeholder": "​",
            "style": "IPY_MODEL_e5cf9322b6f04c7b843796b9e26d17b5",
            "value": "Sanity Checking DataLoader 0: 100%"
          }
        },
        "2d79da0145b54f5c8882d3db1601ce56": {
          "model_module": "@jupyter-widgets/controls",
          "model_name": "FloatProgressModel",
          "model_module_version": "1.5.0",
          "state": {
            "_dom_classes": [],
            "_model_module": "@jupyter-widgets/controls",
            "_model_module_version": "1.5.0",
            "_model_name": "FloatProgressModel",
            "_view_count": null,
            "_view_module": "@jupyter-widgets/controls",
            "_view_module_version": "1.5.0",
            "_view_name": "ProgressView",
            "bar_style": "",
            "description": "",
            "description_tooltip": null,
            "layout": "IPY_MODEL_360f908932f84351892cdac9dac75c6d",
            "max": 2,
            "min": 0,
            "orientation": "horizontal",
            "style": "IPY_MODEL_2411124900bd42a58d0552966087609f",
            "value": 2
          }
        },
        "13097655dea94876a3ba5a8240057760": {
          "model_module": "@jupyter-widgets/controls",
          "model_name": "HTMLModel",
          "model_module_version": "1.5.0",
          "state": {
            "_dom_classes": [],
            "_model_module": "@jupyter-widgets/controls",
            "_model_module_version": "1.5.0",
            "_model_name": "HTMLModel",
            "_view_count": null,
            "_view_module": "@jupyter-widgets/controls",
            "_view_module_version": "1.5.0",
            "_view_name": "HTMLView",
            "description": "",
            "description_tooltip": null,
            "layout": "IPY_MODEL_d745e51e37a6438eadce7fc57263ce1f",
            "placeholder": "​",
            "style": "IPY_MODEL_bdfcaa35f8a84b4c8fcb35facf3f2a32",
            "value": " 2/2 [00:07&lt;00:00,  0.26it/s]"
          }
        },
        "7157c95acd2f41beac8b2ceb0194805b": {
          "model_module": "@jupyter-widgets/base",
          "model_name": "LayoutModel",
          "model_module_version": "1.2.0",
          "state": {
            "_model_module": "@jupyter-widgets/base",
            "_model_module_version": "1.2.0",
            "_model_name": "LayoutModel",
            "_view_count": null,
            "_view_module": "@jupyter-widgets/base",
            "_view_module_version": "1.2.0",
            "_view_name": "LayoutView",
            "align_content": null,
            "align_items": null,
            "align_self": null,
            "border": null,
            "bottom": null,
            "display": "inline-flex",
            "flex": null,
            "flex_flow": "row wrap",
            "grid_area": null,
            "grid_auto_columns": null,
            "grid_auto_flow": null,
            "grid_auto_rows": null,
            "grid_column": null,
            "grid_gap": null,
            "grid_row": null,
            "grid_template_areas": null,
            "grid_template_columns": null,
            "grid_template_rows": null,
            "height": null,
            "justify_content": null,
            "justify_items": null,
            "left": null,
            "margin": null,
            "max_height": null,
            "max_width": null,
            "min_height": null,
            "min_width": null,
            "object_fit": null,
            "object_position": null,
            "order": null,
            "overflow": null,
            "overflow_x": null,
            "overflow_y": null,
            "padding": null,
            "right": null,
            "top": null,
            "visibility": "hidden",
            "width": "100%"
          }
        },
        "67b89296a38d49b6ab8beb98608c5c60": {
          "model_module": "@jupyter-widgets/base",
          "model_name": "LayoutModel",
          "model_module_version": "1.2.0",
          "state": {
            "_model_module": "@jupyter-widgets/base",
            "_model_module_version": "1.2.0",
            "_model_name": "LayoutModel",
            "_view_count": null,
            "_view_module": "@jupyter-widgets/base",
            "_view_module_version": "1.2.0",
            "_view_name": "LayoutView",
            "align_content": null,
            "align_items": null,
            "align_self": null,
            "border": null,
            "bottom": null,
            "display": null,
            "flex": null,
            "flex_flow": null,
            "grid_area": null,
            "grid_auto_columns": null,
            "grid_auto_flow": null,
            "grid_auto_rows": null,
            "grid_column": null,
            "grid_gap": null,
            "grid_row": null,
            "grid_template_areas": null,
            "grid_template_columns": null,
            "grid_template_rows": null,
            "height": null,
            "justify_content": null,
            "justify_items": null,
            "left": null,
            "margin": null,
            "max_height": null,
            "max_width": null,
            "min_height": null,
            "min_width": null,
            "object_fit": null,
            "object_position": null,
            "order": null,
            "overflow": null,
            "overflow_x": null,
            "overflow_y": null,
            "padding": null,
            "right": null,
            "top": null,
            "visibility": null,
            "width": null
          }
        },
        "e5cf9322b6f04c7b843796b9e26d17b5": {
          "model_module": "@jupyter-widgets/controls",
          "model_name": "DescriptionStyleModel",
          "model_module_version": "1.5.0",
          "state": {
            "_model_module": "@jupyter-widgets/controls",
            "_model_module_version": "1.5.0",
            "_model_name": "DescriptionStyleModel",
            "_view_count": null,
            "_view_module": "@jupyter-widgets/base",
            "_view_module_version": "1.2.0",
            "_view_name": "StyleView",
            "description_width": ""
          }
        },
        "360f908932f84351892cdac9dac75c6d": {
          "model_module": "@jupyter-widgets/base",
          "model_name": "LayoutModel",
          "model_module_version": "1.2.0",
          "state": {
            "_model_module": "@jupyter-widgets/base",
            "_model_module_version": "1.2.0",
            "_model_name": "LayoutModel",
            "_view_count": null,
            "_view_module": "@jupyter-widgets/base",
            "_view_module_version": "1.2.0",
            "_view_name": "LayoutView",
            "align_content": null,
            "align_items": null,
            "align_self": null,
            "border": null,
            "bottom": null,
            "display": null,
            "flex": "2",
            "flex_flow": null,
            "grid_area": null,
            "grid_auto_columns": null,
            "grid_auto_flow": null,
            "grid_auto_rows": null,
            "grid_column": null,
            "grid_gap": null,
            "grid_row": null,
            "grid_template_areas": null,
            "grid_template_columns": null,
            "grid_template_rows": null,
            "height": null,
            "justify_content": null,
            "justify_items": null,
            "left": null,
            "margin": null,
            "max_height": null,
            "max_width": null,
            "min_height": null,
            "min_width": null,
            "object_fit": null,
            "object_position": null,
            "order": null,
            "overflow": null,
            "overflow_x": null,
            "overflow_y": null,
            "padding": null,
            "right": null,
            "top": null,
            "visibility": null,
            "width": null
          }
        },
        "2411124900bd42a58d0552966087609f": {
          "model_module": "@jupyter-widgets/controls",
          "model_name": "ProgressStyleModel",
          "model_module_version": "1.5.0",
          "state": {
            "_model_module": "@jupyter-widgets/controls",
            "_model_module_version": "1.5.0",
            "_model_name": "ProgressStyleModel",
            "_view_count": null,
            "_view_module": "@jupyter-widgets/base",
            "_view_module_version": "1.2.0",
            "_view_name": "StyleView",
            "bar_color": null,
            "description_width": ""
          }
        },
        "d745e51e37a6438eadce7fc57263ce1f": {
          "model_module": "@jupyter-widgets/base",
          "model_name": "LayoutModel",
          "model_module_version": "1.2.0",
          "state": {
            "_model_module": "@jupyter-widgets/base",
            "_model_module_version": "1.2.0",
            "_model_name": "LayoutModel",
            "_view_count": null,
            "_view_module": "@jupyter-widgets/base",
            "_view_module_version": "1.2.0",
            "_view_name": "LayoutView",
            "align_content": null,
            "align_items": null,
            "align_self": null,
            "border": null,
            "bottom": null,
            "display": null,
            "flex": null,
            "flex_flow": null,
            "grid_area": null,
            "grid_auto_columns": null,
            "grid_auto_flow": null,
            "grid_auto_rows": null,
            "grid_column": null,
            "grid_gap": null,
            "grid_row": null,
            "grid_template_areas": null,
            "grid_template_columns": null,
            "grid_template_rows": null,
            "height": null,
            "justify_content": null,
            "justify_items": null,
            "left": null,
            "margin": null,
            "max_height": null,
            "max_width": null,
            "min_height": null,
            "min_width": null,
            "object_fit": null,
            "object_position": null,
            "order": null,
            "overflow": null,
            "overflow_x": null,
            "overflow_y": null,
            "padding": null,
            "right": null,
            "top": null,
            "visibility": null,
            "width": null
          }
        },
        "bdfcaa35f8a84b4c8fcb35facf3f2a32": {
          "model_module": "@jupyter-widgets/controls",
          "model_name": "DescriptionStyleModel",
          "model_module_version": "1.5.0",
          "state": {
            "_model_module": "@jupyter-widgets/controls",
            "_model_module_version": "1.5.0",
            "_model_name": "DescriptionStyleModel",
            "_view_count": null,
            "_view_module": "@jupyter-widgets/base",
            "_view_module_version": "1.2.0",
            "_view_name": "StyleView",
            "description_width": ""
          }
        },
        "6c1db9d0d8234522acb52fecab400180": {
          "model_module": "@jupyter-widgets/controls",
          "model_name": "HBoxModel",
          "model_module_version": "1.5.0",
          "state": {
            "_dom_classes": [],
            "_model_module": "@jupyter-widgets/controls",
            "_model_module_version": "1.5.0",
            "_model_name": "HBoxModel",
            "_view_count": null,
            "_view_module": "@jupyter-widgets/controls",
            "_view_module_version": "1.5.0",
            "_view_name": "HBoxView",
            "box_style": "",
            "children": [
              "IPY_MODEL_5d87637f4ebd475f9150c240cf99f1a8",
              "IPY_MODEL_96206a4f3ad743c19f8457b530353602",
              "IPY_MODEL_f8c3b803a72444bdb670a3002a8e4bef"
            ],
            "layout": "IPY_MODEL_21e76e0c80bc429b8d33fa6ca65da0ac"
          }
        },
        "5d87637f4ebd475f9150c240cf99f1a8": {
          "model_module": "@jupyter-widgets/controls",
          "model_name": "HTMLModel",
          "model_module_version": "1.5.0",
          "state": {
            "_dom_classes": [],
            "_model_module": "@jupyter-widgets/controls",
            "_model_module_version": "1.5.0",
            "_model_name": "HTMLModel",
            "_view_count": null,
            "_view_module": "@jupyter-widgets/controls",
            "_view_module_version": "1.5.0",
            "_view_name": "HTMLView",
            "description": "",
            "description_tooltip": null,
            "layout": "IPY_MODEL_d0a884a1356a46e3b5ef156f4d49b6f0",
            "placeholder": "​",
            "style": "IPY_MODEL_9967b47223ec4912bb4cff4274ee1283",
            "value": "Epoch 0: 100%"
          }
        },
        "96206a4f3ad743c19f8457b530353602": {
          "model_module": "@jupyter-widgets/controls",
          "model_name": "FloatProgressModel",
          "model_module_version": "1.5.0",
          "state": {
            "_dom_classes": [],
            "_model_module": "@jupyter-widgets/controls",
            "_model_module_version": "1.5.0",
            "_model_name": "FloatProgressModel",
            "_view_count": null,
            "_view_module": "@jupyter-widgets/controls",
            "_view_module_version": "1.5.0",
            "_view_name": "ProgressView",
            "bar_style": "",
            "description": "",
            "description_tooltip": null,
            "layout": "IPY_MODEL_8556eeaf469645919c5b06751fecc60d",
            "max": 136,
            "min": 0,
            "orientation": "horizontal",
            "style": "IPY_MODEL_cf82f3a4b8f047c4b1da41c5f8d84b20",
            "value": 136
          }
        },
        "f8c3b803a72444bdb670a3002a8e4bef": {
          "model_module": "@jupyter-widgets/controls",
          "model_name": "HTMLModel",
          "model_module_version": "1.5.0",
          "state": {
            "_dom_classes": [],
            "_model_module": "@jupyter-widgets/controls",
            "_model_module_version": "1.5.0",
            "_model_name": "HTMLModel",
            "_view_count": null,
            "_view_module": "@jupyter-widgets/controls",
            "_view_module_version": "1.5.0",
            "_view_name": "HTMLView",
            "description": "",
            "description_tooltip": null,
            "layout": "IPY_MODEL_b178f46e9b544f0a948e3ed51926adff",
            "placeholder": "​",
            "style": "IPY_MODEL_e8ceffec67cf4b5a80e78c888bfb2736",
            "value": " 136/136 [22:08&lt;00:00,  0.10it/s, v_num=2]"
          }
        },
        "21e76e0c80bc429b8d33fa6ca65da0ac": {
          "model_module": "@jupyter-widgets/base",
          "model_name": "LayoutModel",
          "model_module_version": "1.2.0",
          "state": {
            "_model_module": "@jupyter-widgets/base",
            "_model_module_version": "1.2.0",
            "_model_name": "LayoutModel",
            "_view_count": null,
            "_view_module": "@jupyter-widgets/base",
            "_view_module_version": "1.2.0",
            "_view_name": "LayoutView",
            "align_content": null,
            "align_items": null,
            "align_self": null,
            "border": null,
            "bottom": null,
            "display": "inline-flex",
            "flex": null,
            "flex_flow": "row wrap",
            "grid_area": null,
            "grid_auto_columns": null,
            "grid_auto_flow": null,
            "grid_auto_rows": null,
            "grid_column": null,
            "grid_gap": null,
            "grid_row": null,
            "grid_template_areas": null,
            "grid_template_columns": null,
            "grid_template_rows": null,
            "height": null,
            "justify_content": null,
            "justify_items": null,
            "left": null,
            "margin": null,
            "max_height": null,
            "max_width": null,
            "min_height": null,
            "min_width": null,
            "object_fit": null,
            "object_position": null,
            "order": null,
            "overflow": null,
            "overflow_x": null,
            "overflow_y": null,
            "padding": null,
            "right": null,
            "top": null,
            "visibility": null,
            "width": "100%"
          }
        },
        "d0a884a1356a46e3b5ef156f4d49b6f0": {
          "model_module": "@jupyter-widgets/base",
          "model_name": "LayoutModel",
          "model_module_version": "1.2.0",
          "state": {
            "_model_module": "@jupyter-widgets/base",
            "_model_module_version": "1.2.0",
            "_model_name": "LayoutModel",
            "_view_count": null,
            "_view_module": "@jupyter-widgets/base",
            "_view_module_version": "1.2.0",
            "_view_name": "LayoutView",
            "align_content": null,
            "align_items": null,
            "align_self": null,
            "border": null,
            "bottom": null,
            "display": null,
            "flex": null,
            "flex_flow": null,
            "grid_area": null,
            "grid_auto_columns": null,
            "grid_auto_flow": null,
            "grid_auto_rows": null,
            "grid_column": null,
            "grid_gap": null,
            "grid_row": null,
            "grid_template_areas": null,
            "grid_template_columns": null,
            "grid_template_rows": null,
            "height": null,
            "justify_content": null,
            "justify_items": null,
            "left": null,
            "margin": null,
            "max_height": null,
            "max_width": null,
            "min_height": null,
            "min_width": null,
            "object_fit": null,
            "object_position": null,
            "order": null,
            "overflow": null,
            "overflow_x": null,
            "overflow_y": null,
            "padding": null,
            "right": null,
            "top": null,
            "visibility": null,
            "width": null
          }
        },
        "9967b47223ec4912bb4cff4274ee1283": {
          "model_module": "@jupyter-widgets/controls",
          "model_name": "DescriptionStyleModel",
          "model_module_version": "1.5.0",
          "state": {
            "_model_module": "@jupyter-widgets/controls",
            "_model_module_version": "1.5.0",
            "_model_name": "DescriptionStyleModel",
            "_view_count": null,
            "_view_module": "@jupyter-widgets/base",
            "_view_module_version": "1.2.0",
            "_view_name": "StyleView",
            "description_width": ""
          }
        },
        "8556eeaf469645919c5b06751fecc60d": {
          "model_module": "@jupyter-widgets/base",
          "model_name": "LayoutModel",
          "model_module_version": "1.2.0",
          "state": {
            "_model_module": "@jupyter-widgets/base",
            "_model_module_version": "1.2.0",
            "_model_name": "LayoutModel",
            "_view_count": null,
            "_view_module": "@jupyter-widgets/base",
            "_view_module_version": "1.2.0",
            "_view_name": "LayoutView",
            "align_content": null,
            "align_items": null,
            "align_self": null,
            "border": null,
            "bottom": null,
            "display": null,
            "flex": "2",
            "flex_flow": null,
            "grid_area": null,
            "grid_auto_columns": null,
            "grid_auto_flow": null,
            "grid_auto_rows": null,
            "grid_column": null,
            "grid_gap": null,
            "grid_row": null,
            "grid_template_areas": null,
            "grid_template_columns": null,
            "grid_template_rows": null,
            "height": null,
            "justify_content": null,
            "justify_items": null,
            "left": null,
            "margin": null,
            "max_height": null,
            "max_width": null,
            "min_height": null,
            "min_width": null,
            "object_fit": null,
            "object_position": null,
            "order": null,
            "overflow": null,
            "overflow_x": null,
            "overflow_y": null,
            "padding": null,
            "right": null,
            "top": null,
            "visibility": null,
            "width": null
          }
        },
        "cf82f3a4b8f047c4b1da41c5f8d84b20": {
          "model_module": "@jupyter-widgets/controls",
          "model_name": "ProgressStyleModel",
          "model_module_version": "1.5.0",
          "state": {
            "_model_module": "@jupyter-widgets/controls",
            "_model_module_version": "1.5.0",
            "_model_name": "ProgressStyleModel",
            "_view_count": null,
            "_view_module": "@jupyter-widgets/base",
            "_view_module_version": "1.2.0",
            "_view_name": "StyleView",
            "bar_color": null,
            "description_width": ""
          }
        },
        "b178f46e9b544f0a948e3ed51926adff": {
          "model_module": "@jupyter-widgets/base",
          "model_name": "LayoutModel",
          "model_module_version": "1.2.0",
          "state": {
            "_model_module": "@jupyter-widgets/base",
            "_model_module_version": "1.2.0",
            "_model_name": "LayoutModel",
            "_view_count": null,
            "_view_module": "@jupyter-widgets/base",
            "_view_module_version": "1.2.0",
            "_view_name": "LayoutView",
            "align_content": null,
            "align_items": null,
            "align_self": null,
            "border": null,
            "bottom": null,
            "display": null,
            "flex": null,
            "flex_flow": null,
            "grid_area": null,
            "grid_auto_columns": null,
            "grid_auto_flow": null,
            "grid_auto_rows": null,
            "grid_column": null,
            "grid_gap": null,
            "grid_row": null,
            "grid_template_areas": null,
            "grid_template_columns": null,
            "grid_template_rows": null,
            "height": null,
            "justify_content": null,
            "justify_items": null,
            "left": null,
            "margin": null,
            "max_height": null,
            "max_width": null,
            "min_height": null,
            "min_width": null,
            "object_fit": null,
            "object_position": null,
            "order": null,
            "overflow": null,
            "overflow_x": null,
            "overflow_y": null,
            "padding": null,
            "right": null,
            "top": null,
            "visibility": null,
            "width": null
          }
        },
        "e8ceffec67cf4b5a80e78c888bfb2736": {
          "model_module": "@jupyter-widgets/controls",
          "model_name": "DescriptionStyleModel",
          "model_module_version": "1.5.0",
          "state": {
            "_model_module": "@jupyter-widgets/controls",
            "_model_module_version": "1.5.0",
            "_model_name": "DescriptionStyleModel",
            "_view_count": null,
            "_view_module": "@jupyter-widgets/base",
            "_view_module_version": "1.2.0",
            "_view_name": "StyleView",
            "description_width": ""
          }
        },
        "f7f8e76533fa4a2a803b71c47d3ca221": {
          "model_module": "@jupyter-widgets/controls",
          "model_name": "HBoxModel",
          "model_module_version": "1.5.0",
          "state": {
            "_dom_classes": [],
            "_model_module": "@jupyter-widgets/controls",
            "_model_module_version": "1.5.0",
            "_model_name": "HBoxModel",
            "_view_count": null,
            "_view_module": "@jupyter-widgets/controls",
            "_view_module_version": "1.5.0",
            "_view_name": "HBoxView",
            "box_style": "",
            "children": [
              "IPY_MODEL_d3f0153fd6dd4076b9f323df1581fc31",
              "IPY_MODEL_16e072ca0a58474ebeb866fc9aa5cb7b",
              "IPY_MODEL_c98d5fce7b24482aa53993c1ffd352e0"
            ],
            "layout": "IPY_MODEL_6d18b0e31c194135bc875d707ae3cd1b"
          }
        },
        "d3f0153fd6dd4076b9f323df1581fc31": {
          "model_module": "@jupyter-widgets/controls",
          "model_name": "HTMLModel",
          "model_module_version": "1.5.0",
          "state": {
            "_dom_classes": [],
            "_model_module": "@jupyter-widgets/controls",
            "_model_module_version": "1.5.0",
            "_model_name": "HTMLModel",
            "_view_count": null,
            "_view_module": "@jupyter-widgets/controls",
            "_view_module_version": "1.5.0",
            "_view_name": "HTMLView",
            "description": "",
            "description_tooltip": null,
            "layout": "IPY_MODEL_15c8d8973cf24524a17b916c5bb13792",
            "placeholder": "​",
            "style": "IPY_MODEL_678fb2c6eeb841a6a20398d56d3f1477",
            "value": "Validation DataLoader 0:   0%"
          }
        },
        "16e072ca0a58474ebeb866fc9aa5cb7b": {
          "model_module": "@jupyter-widgets/controls",
          "model_name": "FloatProgressModel",
          "model_module_version": "1.5.0",
          "state": {
            "_dom_classes": [],
            "_model_module": "@jupyter-widgets/controls",
            "_model_module_version": "1.5.0",
            "_model_name": "FloatProgressModel",
            "_view_count": null,
            "_view_module": "@jupyter-widgets/controls",
            "_view_module_version": "1.5.0",
            "_view_name": "ProgressView",
            "bar_style": "",
            "description": "",
            "description_tooltip": null,
            "layout": "IPY_MODEL_bb484d1cc775427b81b966eebf2848a6",
            "max": 14,
            "min": 0,
            "orientation": "horizontal",
            "style": "IPY_MODEL_2a33c788c2cb44da85750a05f83d2c54",
            "value": 0
          }
        },
        "c98d5fce7b24482aa53993c1ffd352e0": {
          "model_module": "@jupyter-widgets/controls",
          "model_name": "HTMLModel",
          "model_module_version": "1.5.0",
          "state": {
            "_dom_classes": [],
            "_model_module": "@jupyter-widgets/controls",
            "_model_module_version": "1.5.0",
            "_model_name": "HTMLModel",
            "_view_count": null,
            "_view_module": "@jupyter-widgets/controls",
            "_view_module_version": "1.5.0",
            "_view_name": "HTMLView",
            "description": "",
            "description_tooltip": null,
            "layout": "IPY_MODEL_0aad460f8aaf46bea0023692fec12343",
            "placeholder": "​",
            "style": "IPY_MODEL_bfd1424e45f04f2eaf61dba28700f336",
            "value": " 0/14 [00:00&lt;?, ?it/s]"
          }
        },
        "6d18b0e31c194135bc875d707ae3cd1b": {
          "model_module": "@jupyter-widgets/base",
          "model_name": "LayoutModel",
          "model_module_version": "1.2.0",
          "state": {
            "_model_module": "@jupyter-widgets/base",
            "_model_module_version": "1.2.0",
            "_model_name": "LayoutModel",
            "_view_count": null,
            "_view_module": "@jupyter-widgets/base",
            "_view_module_version": "1.2.0",
            "_view_name": "LayoutView",
            "align_content": null,
            "align_items": null,
            "align_self": null,
            "border": null,
            "bottom": null,
            "display": "inline-flex",
            "flex": null,
            "flex_flow": "row wrap",
            "grid_area": null,
            "grid_auto_columns": null,
            "grid_auto_flow": null,
            "grid_auto_rows": null,
            "grid_column": null,
            "grid_gap": null,
            "grid_row": null,
            "grid_template_areas": null,
            "grid_template_columns": null,
            "grid_template_rows": null,
            "height": null,
            "justify_content": null,
            "justify_items": null,
            "left": null,
            "margin": null,
            "max_height": null,
            "max_width": null,
            "min_height": null,
            "min_width": null,
            "object_fit": null,
            "object_position": null,
            "order": null,
            "overflow": null,
            "overflow_x": null,
            "overflow_y": null,
            "padding": null,
            "right": null,
            "top": null,
            "visibility": null,
            "width": "100%"
          }
        },
        "15c8d8973cf24524a17b916c5bb13792": {
          "model_module": "@jupyter-widgets/base",
          "model_name": "LayoutModel",
          "model_module_version": "1.2.0",
          "state": {
            "_model_module": "@jupyter-widgets/base",
            "_model_module_version": "1.2.0",
            "_model_name": "LayoutModel",
            "_view_count": null,
            "_view_module": "@jupyter-widgets/base",
            "_view_module_version": "1.2.0",
            "_view_name": "LayoutView",
            "align_content": null,
            "align_items": null,
            "align_self": null,
            "border": null,
            "bottom": null,
            "display": null,
            "flex": null,
            "flex_flow": null,
            "grid_area": null,
            "grid_auto_columns": null,
            "grid_auto_flow": null,
            "grid_auto_rows": null,
            "grid_column": null,
            "grid_gap": null,
            "grid_row": null,
            "grid_template_areas": null,
            "grid_template_columns": null,
            "grid_template_rows": null,
            "height": null,
            "justify_content": null,
            "justify_items": null,
            "left": null,
            "margin": null,
            "max_height": null,
            "max_width": null,
            "min_height": null,
            "min_width": null,
            "object_fit": null,
            "object_position": null,
            "order": null,
            "overflow": null,
            "overflow_x": null,
            "overflow_y": null,
            "padding": null,
            "right": null,
            "top": null,
            "visibility": null,
            "width": null
          }
        },
        "678fb2c6eeb841a6a20398d56d3f1477": {
          "model_module": "@jupyter-widgets/controls",
          "model_name": "DescriptionStyleModel",
          "model_module_version": "1.5.0",
          "state": {
            "_model_module": "@jupyter-widgets/controls",
            "_model_module_version": "1.5.0",
            "_model_name": "DescriptionStyleModel",
            "_view_count": null,
            "_view_module": "@jupyter-widgets/base",
            "_view_module_version": "1.2.0",
            "_view_name": "StyleView",
            "description_width": ""
          }
        },
        "bb484d1cc775427b81b966eebf2848a6": {
          "model_module": "@jupyter-widgets/base",
          "model_name": "LayoutModel",
          "model_module_version": "1.2.0",
          "state": {
            "_model_module": "@jupyter-widgets/base",
            "_model_module_version": "1.2.0",
            "_model_name": "LayoutModel",
            "_view_count": null,
            "_view_module": "@jupyter-widgets/base",
            "_view_module_version": "1.2.0",
            "_view_name": "LayoutView",
            "align_content": null,
            "align_items": null,
            "align_self": null,
            "border": null,
            "bottom": null,
            "display": null,
            "flex": "2",
            "flex_flow": null,
            "grid_area": null,
            "grid_auto_columns": null,
            "grid_auto_flow": null,
            "grid_auto_rows": null,
            "grid_column": null,
            "grid_gap": null,
            "grid_row": null,
            "grid_template_areas": null,
            "grid_template_columns": null,
            "grid_template_rows": null,
            "height": null,
            "justify_content": null,
            "justify_items": null,
            "left": null,
            "margin": null,
            "max_height": null,
            "max_width": null,
            "min_height": null,
            "min_width": null,
            "object_fit": null,
            "object_position": null,
            "order": null,
            "overflow": null,
            "overflow_x": null,
            "overflow_y": null,
            "padding": null,
            "right": null,
            "top": null,
            "visibility": null,
            "width": null
          }
        },
        "2a33c788c2cb44da85750a05f83d2c54": {
          "model_module": "@jupyter-widgets/controls",
          "model_name": "ProgressStyleModel",
          "model_module_version": "1.5.0",
          "state": {
            "_model_module": "@jupyter-widgets/controls",
            "_model_module_version": "1.5.0",
            "_model_name": "ProgressStyleModel",
            "_view_count": null,
            "_view_module": "@jupyter-widgets/base",
            "_view_module_version": "1.2.0",
            "_view_name": "StyleView",
            "bar_color": null,
            "description_width": ""
          }
        },
        "0aad460f8aaf46bea0023692fec12343": {
          "model_module": "@jupyter-widgets/base",
          "model_name": "LayoutModel",
          "model_module_version": "1.2.0",
          "state": {
            "_model_module": "@jupyter-widgets/base",
            "_model_module_version": "1.2.0",
            "_model_name": "LayoutModel",
            "_view_count": null,
            "_view_module": "@jupyter-widgets/base",
            "_view_module_version": "1.2.0",
            "_view_name": "LayoutView",
            "align_content": null,
            "align_items": null,
            "align_self": null,
            "border": null,
            "bottom": null,
            "display": null,
            "flex": null,
            "flex_flow": null,
            "grid_area": null,
            "grid_auto_columns": null,
            "grid_auto_flow": null,
            "grid_auto_rows": null,
            "grid_column": null,
            "grid_gap": null,
            "grid_row": null,
            "grid_template_areas": null,
            "grid_template_columns": null,
            "grid_template_rows": null,
            "height": null,
            "justify_content": null,
            "justify_items": null,
            "left": null,
            "margin": null,
            "max_height": null,
            "max_width": null,
            "min_height": null,
            "min_width": null,
            "object_fit": null,
            "object_position": null,
            "order": null,
            "overflow": null,
            "overflow_x": null,
            "overflow_y": null,
            "padding": null,
            "right": null,
            "top": null,
            "visibility": null,
            "width": null
          }
        },
        "bfd1424e45f04f2eaf61dba28700f336": {
          "model_module": "@jupyter-widgets/controls",
          "model_name": "DescriptionStyleModel",
          "model_module_version": "1.5.0",
          "state": {
            "_model_module": "@jupyter-widgets/controls",
            "_model_module_version": "1.5.0",
            "_model_name": "DescriptionStyleModel",
            "_view_count": null,
            "_view_module": "@jupyter-widgets/base",
            "_view_module_version": "1.2.0",
            "_view_name": "StyleView",
            "description_width": ""
          }
        }
      }
    }
  },
  "nbformat": 4,
  "nbformat_minor": 0
}